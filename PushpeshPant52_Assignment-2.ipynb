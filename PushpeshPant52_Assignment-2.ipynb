{
 "cells": [
  {
   "cell_type": "markdown",
   "id": "7f88568f-4849-4270-a035-b3dedc97a5f3",
   "metadata": {},
   "source": [
    "# Python Assignment - 2"
   ]
  },
  {
   "cell_type": "markdown",
   "id": "d7e46a99-f1bf-41d8-aad9-0fe4b8b848d2",
   "metadata": {},
   "source": [
    "### 1. List Manipulation: Shopping Cart\n",
    "-\tCreate an empty list called shopping_cart.\n",
    "-\tAsk the user to input three items one by one and add each to the list.\n",
    "-\tPrint the final list.\n",
    "-\tThen, remove the second item and print the updated list.\n"
   ]
  },
  {
   "cell_type": "code",
   "execution_count": 5,
   "id": "9473c7ae-f8b3-41d0-afdf-c75f14d60d7c",
   "metadata": {},
   "outputs": [
    {
     "name": "stdout",
     "output_type": "stream",
     "text": [
      "Enter three item in your shopping cart\n"
     ]
    },
    {
     "name": "stdin",
     "output_type": "stream",
     "text": [
      "Enter your 1 item Car\n",
      "Enter your 2 item Pen\n",
      "Enter your 3 item Laptop\n"
     ]
    },
    {
     "name": "stdout",
     "output_type": "stream",
     "text": [
      "Final Shopping Cart = ['Car', 'Pen', 'Laptop']\n",
      "Removing 2ND Item\n",
      "Updated Shopping Cart = ['Car', 'Laptop']\n"
     ]
    }
   ],
   "source": [
    "cart=[]\n",
    "print(\"Enter three item in your shopping cart\")\n",
    "for i in range(3):\n",
    "    item = input(f\"Enter your {i+1} item\")\n",
    "    cart.append(item)\n",
    "print(f\"Final Shopping Cart = {cart}\")\n",
    "print(\"Removing 2ND Item\")\n",
    "cart.pop(1)\n",
    "print(f\"Updated Shopping Cart = {cart}\")\n",
    "\n",
    "    "
   ]
  },
  {
   "cell_type": "markdown",
   "id": "d84c2bad-1ec6-4525-be6a-4c2e283b2822",
   "metadata": {},
   "source": [
    "### 2. Tuple Basics: Student Information\n",
    "-\tCreate a tuple named student that contains a student's first name, last name, and age (e.g., ('John', 'Doe', 19)).\n",
    "-\tPrint the entire tuple.\n",
    "-\tPrint only the student's last name using indexing.\n"
   ]
  },
  {
   "cell_type": "code",
   "execution_count": 9,
   "id": "b283293e-1b27-4d05-a814-6aa417fb45d0",
   "metadata": {},
   "outputs": [
    {
     "name": "stdout",
     "output_type": "stream",
     "text": [
      "('John', 'doe', 19)\n",
      "My last name is doe\n"
     ]
    }
   ],
   "source": [
    "tups = ('John','doe',19)\n",
    "print(tups)\n",
    "print(f\"My last name is {tups[1]}\")"
   ]
  },
  {
   "cell_type": "markdown",
   "id": "b504998b-5187-4850-87ad-e8d7fb413a68",
   "metadata": {},
   "source": [
    "### 3. Dictionary: Phone Book\n",
    "-\tCreate an empty dictionary called phone_book.\n",
    "-\tAdd three key-value pairs to it, where the key is a person's name and the value is their phone number\n",
    "-\tPrint the entire dictionary.\n",
    "-\tAsk the user for a name and print that person's phone number. Handle the case where the name is not found.\n"
   ]
  },
  {
   "cell_type": "code",
   "execution_count": 13,
   "id": "4b95b46d-90fc-4ef7-b8c6-8ecaeeafb344",
   "metadata": {},
   "outputs": [
    {
     "name": "stdout",
     "output_type": "stream",
     "text": [
      "{'Pushpesh': 9891193388, 'Mohit': 7289914741, 'Pamma': 8133442679}\n"
     ]
    },
    {
     "name": "stdin",
     "output_type": "stream",
     "text": [
      "Whos number you want? Mohit\n"
     ]
    },
    {
     "name": "stdout",
     "output_type": "stream",
     "text": [
      "7289914741\n"
     ]
    }
   ],
   "source": [
    "phone_book={}\n",
    "phone_book['Pushpesh']=9891193388\n",
    "phone_book['Mohit']=7289914741\n",
    "phone_book['Pamma']=8133442679\n",
    "print(phone_book)\n",
    "name = input(\"Whos number you want?\")\n",
    "if name in phone_book:\n",
    "    print(phone_book[name])\n",
    "else:\n",
    "    print(\"name is not found.\")"
   ]
  },
  {
   "cell_type": "markdown",
   "id": "d43841c3-95cd-4879-8061-9829e1be4ecb",
   "metadata": {},
   "source": [
    "### 5. Dictionary Nesting: Employee Directory\n",
    "-\tCreate a dictionary named employee that stores information for one employee. It should have the keys: 'name', 'department', and 'skills'.\n",
    "-\tThe value for 'skills' should be a list of programming languages the employee knows (e.g., ['Python', 'SQL']).\n",
    "-\tPrint the employee's name and their second skill.\n"
   ]
  },
  {
   "cell_type": "code",
   "execution_count": 30,
   "id": "d9c86583-9dfb-438b-adf3-5448dbf0066d",
   "metadata": {},
   "outputs": [
    {
     "name": "stdout",
     "output_type": "stream",
     "text": [
      "Employee name is Pushpesh Pant and he is proficient in Java \n"
     ]
    }
   ],
   "source": [
    "employee = {\n",
    "    'name': 'Pushpesh Pant',\n",
    "    'department' : 'IT',\n",
    "    'Skill' : ['Python','Java','Kotlin','SQL']\n",
    "}\n",
    "print(f'Employee name is {employee['name']} and he is proficient in {employee['Skill'][1]} ')\n"
   ]
  },
  {
   "cell_type": "markdown",
   "id": "8bf26428-4d80-4405-9666-443c95a6e372",
   "metadata": {},
   "source": [
    "### 6. Converting Data Types\n",
    "-\tCreate a list of names: names_list = ['Alice', 'Bob', 'Charlie'].\n",
    "-\tConvert this list into a tuple.\n",
    "-\tTry to change the first element of the new tuple to 'David'. Observe and note what happens.\n"
   ]
  },
  {
   "cell_type": "code",
   "execution_count": 35,
   "id": "b1355116-c85d-4c36-aefa-bc9e6d66af73",
   "metadata": {},
   "outputs": [
    {
     "name": "stdout",
     "output_type": "stream",
     "text": [
      "Tuple: ('Alice', 'Bob', 'Charlie')\n"
     ]
    }
   ],
   "source": [
    "names_list = ['Alice', 'Bob', 'Charlie']\n",
    "names_tuple = tuple(names_list)\n",
    "print(\"Tuple:\", names_tuple)\n",
    "# names_tuple[1]='david'\n",
    "# print(names_tuple)\n",
    "# it is giving an error because tuple is immutable in python. so, we can't change a value in tuple after creation."
   ]
  },
  {
   "cell_type": "markdown",
   "id": "620fc494-1a2d-42f1-8acf-e02b1b45af4d",
   "metadata": {},
   "source": [
    "### 7. Membership Testing (Lists & Dictionaries)\n",
    "- Create a list fruits = ['apple', 'banana', 'mango'].\n",
    "- Ask the user to input a fruit name.\n",
    "- Check if the fruit is in the list and print an appropriate message (e.g., \"Yes, we have bananas!\").\n",
    "- Now, check for the same fruit in the keys of this dictionary: prices = {'apple': 1.0, 'banana': 0.5, 'orange': 0.75}.\n"
   ]
  },
  {
   "cell_type": "code",
   "execution_count": 44,
   "id": "e6d57e4b-6837-4e15-874b-7938f4785943",
   "metadata": {},
   "outputs": [
    {
     "name": "stdin",
     "output_type": "stream",
     "text": [
      "Enter a Fruit name ss\n"
     ]
    },
    {
     "name": "stdout",
     "output_type": "stream",
     "text": [
      "we don't have ss\n"
     ]
    }
   ],
   "source": [
    "fruits = ['apple', 'banana', 'mango']\n",
    "fruit = input(\"Enter a Fruit name\")\n",
    "if fruit in fruits:\n",
    "    print(f\"Yes , we have {fruit}\")\n",
    "else:\n",
    "    print(f'we don\\'t have {fruit}')\n",
    "\n",
    "prices = {'apple':1.0,'banana':0.5,'mango':0.75}\n",
    "if fruit in prices:\n",
    "    print(f'Price of {fruit} is {prices[fruit]}')\n"
   ]
  },
  {
   "cell_type": "markdown",
   "id": "0caaf4af-82cc-4cfc-85ed-faee5ec66c05",
   "metadata": {},
   "source": [
    "### 8. Combining Lists and Dictionaries: Gradebook\n",
    "-\tCreate a dictionary called grades where the key is a student's name and the value is a list of their test scores (e.g., {'Alice': [85, 90, 78], 'Bob': [92, 88, 95]}).\n",
    "-\tCalculate and print the average test score for a specific student (e.g., Alice). sum(list) / len(list)\n"
   ]
  },
  {
   "cell_type": "code",
   "execution_count": 46,
   "id": "25fb4ed6-4ffa-46e9-8bf5-02760a7141af",
   "metadata": {},
   "outputs": [
    {
     "name": "stdout",
     "output_type": "stream",
     "text": [
      "Average of Alice : 84.33\n"
     ]
    }
   ],
   "source": [
    "student_scores= {\n",
    "    'Alice':[85,90,78],\n",
    "    'Bob' : [92,88,95]\n",
    "}\n",
    "student_name='Alice'\n",
    "average=sum(student_scores[student_name])/len(student_scores[student_name])\n",
    "print(f'Average of {student_name} : {average:.2f}')"
   ]
  },
  {
   "cell_type": "markdown",
   "id": "58049a47-73a2-4fd6-94c4-82f0b21a80dd",
   "metadata": {},
   "source": [
    "### 9. Tuple Unpacking: Coordinates\n",
    "-\tCreate a tuple called point that represents a 2D coordinate (e.g., (5, -3)).\n",
    "-\tUse tuple unpacking to assign the values to two variables, x and y.\n",
    "-\tPrint the values of x and y and then calculate the distance from the origin (0, 0) using the formula: (x**2 + y**2)**0.5.\n"
   ]
  },
  {
   "cell_type": "code",
   "execution_count": 50,
   "id": "b1b33e61-b04c-4ed5-a377-e22def247943",
   "metadata": {},
   "outputs": [
    {
     "name": "stdout",
     "output_type": "stream",
     "text": [
      "coordinates are x:5 , y:-3\n",
      "Distance of coordinates from orgini(0,0): 5.830951894845301\n"
     ]
    }
   ],
   "source": [
    "coordinates=(5,-3)\n",
    "x,y=coordinates #TUPPLE UNPACKING\n",
    "print(f'coordinates are x:{x} , y:{y}')\n",
    "distance = (x**2+y**2)**0.5\n",
    "print(f'Distance of coordinates from orgini(0,0): {distance}')"
   ]
  },
  {
   "cell_type": "markdown",
   "id": "792bd0b8-6675-4243-84ba-ccc2a85bc3f8",
   "metadata": {},
   "source": [
    "### 10. Comprehensive Practice: Restaurant Order\n",
    "- Create a dictionary called menu where the keys are item names and the values are their prices.\n",
    "- Create an empty list called order.\n",
    "- Simulate a customer ordering by asking them to input two item names from the menu. Add each item to the order list.\n",
    "- Calculate the total cost of the order by looking up each item in the order list within the menu dictionary and summing their prices.\n",
    "- Print the total bill amount.\n"
   ]
  },
  {
   "cell_type": "code",
   "execution_count": 52,
   "id": "94dd5133-e0b4-41b5-bd24-5accf3629832",
   "metadata": {},
   "outputs": [
    {
     "name": "stdin",
     "output_type": "stream",
     "text": [
      "Enter an item from menu ham\n"
     ]
    },
    {
     "name": "stdout",
     "output_type": "stream",
     "text": [
      "Item is not available\n"
     ]
    },
    {
     "name": "stdin",
     "output_type": "stream",
     "text": [
      "Enter an item from menu coffee\n",
      "Enter an item from menu pizza\n"
     ]
    },
    {
     "name": "stdout",
     "output_type": "stream",
     "text": [
      "Your order: ['coffee', 'pizza']\n",
      "Total bill amount = 440\n"
     ]
    }
   ],
   "source": [
    "menu= {\n",
    "    'pizza': 340,\n",
    "    'burger': 120,\n",
    "    'coffee' : 100,\n",
    "    'Paste': 150\n",
    "}\n",
    "order=[]\n",
    "for i in range(3):\n",
    "    item = input(\"Enter an item from menu\")\n",
    "    if item in menu:\n",
    "        order.append(item)\n",
    "    else:\n",
    "        print(\"Item is not available\")\n",
    "total_amount= sum(menu[item] for item in order)\n",
    "print(\"Your order:\", order)\n",
    "print(\"Total bill amount =\", total_amount)"
   ]
  }
 ],
 "metadata": {
  "kernelspec": {
   "display_name": "Python [conda env:base] *",
   "language": "python",
   "name": "conda-base-py"
  },
  "language_info": {
   "codemirror_mode": {
    "name": "ipython",
    "version": 3
   },
   "file_extension": ".py",
   "mimetype": "text/x-python",
   "name": "python",
   "nbconvert_exporter": "python",
   "pygments_lexer": "ipython3",
   "version": "3.13.5"
  }
 },
 "nbformat": 4,
 "nbformat_minor": 5
}
